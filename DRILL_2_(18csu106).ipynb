{
  "nbformat": 4,
  "nbformat_minor": 0,
  "metadata": {
    "colab": {
      "name": "DRILL 2 (18csu106)",
      "provenance": [],
      "collapsed_sections": []
    },
    "kernelspec": {
      "name": "python3",
      "display_name": "Python 3"
    },
    "accelerator": "GPU"
  },
  "cells": [
    {
      "cell_type": "code",
      "metadata": {
        "id": "zzPtde-VkZkz"
      },
      "source": [
        "#DEEP LEARNING ASSIGNMENT---(18csu106) Kashish Bhagat"
      ],
      "execution_count": 47,
      "outputs": []
    },
    {
      "cell_type": "markdown",
      "metadata": {
        "id": "Kh2po1w5kg4F"
      },
      "source": [
        "Using the code from the lecture as the basis, fiddle with the hyperparameters of the algorithm.\r\n",
        "\r\n",
        "1. The *width* (the hidden layer size) of the algorithm. Try a hidden layer size of 200. How does the validation accuracy of the model change? What about the time it took the algorithm to train? Can you find a hidden layer size that does better?\r\n",
        "\r\n",
        "2. The *depth* of the algorithm. Add another hidden layer to the algorithm. This is an extremely important exercise! How does the validation accuracy change? What about the time it took the algorithm to train? Hint: Be careful with the shapes of the weights and the biases.\r\n",
        "\r\n",
        "3. The *width and depth* of the algorithm. Add as many additional layers as you need to reach 5 hidden layers. Moreover, adjust the width of the algorithm as you find suitable. How does the validation accuracy change? What about the time it took the algorithm to train?\r\n",
        "\r\n",
        "4. Fiddle with the activation functions. Try applying sigmoid transformation to both layers. The sigmoid activation is given by the string 'sigmoid'.\r\n",
        "\r\n",
        "5. Fiddle with the activation functions. Try applying a ReLu to the first hidden layer and tanh to the second one. The tanh activation is given by the string 'tanh'.\r\n",
        "\r\n",
        "6. Adjust the batch size. Try a batch size of 10000. How does the required time change? What about the accuracy?\r\n",
        "\r\n",
        "7. Adjust the batch size. Try a batch size of 1. That's the SGD. How do the time and accuracy change? Is the result coherent with the theory?\r\n",
        "\r\n",
        "8. Adjust the learning rate. Try a value of 0.0001. Does it make a difference?\r\n",
        "\r\n",
        "9. Adjust the learning rate. Try a value of 0.02. Does it make a difference?\r\n",
        "\r\n",
        "10. Combine all the methods above and try to reach a validation accuracy of 98.5+ percent."
      ]
    },
    {
      "cell_type": "code",
      "metadata": {
        "id": "WZgvWYXVk42c"
      },
      "source": [
        "import keras\r\n",
        "from keras.datasets import mnist\r\n",
        "from keras.layers import Dense\r\n",
        "from keras.models import Sequential\r\n",
        "from matplotlib import pyplot as plt\r\n",
        "from random import randint\r\n",
        "import tensorflow\r\n",
        "import tensorflow_datasets as tfds"
      ],
      "execution_count": 3,
      "outputs": []
    },
    {
      "cell_type": "code",
      "metadata": {
        "colab": {
          "base_uri": "https://localhost:8080/"
        },
        "id": "i4D8XGmylG00",
        "outputId": "2c8d922d-d1dc-419c-a147-828038fe1a63"
      },
      "source": [
        "(x_train, y_train), (x_test, y_test) = mnist.load_data()"
      ],
      "execution_count": 4,
      "outputs": [
        {
          "output_type": "stream",
          "text": [
            "Downloading data from https://storage.googleapis.com/tensorflow/tf-keras-datasets/mnist.npz\n",
            "11493376/11490434 [==============================] - 0s 0us/step\n"
          ],
          "name": "stdout"
        }
      ]
    },
    {
      "cell_type": "markdown",
      "metadata": {
        "id": "-VvyYCVQoHyU"
      },
      "source": [
        "1st Network"
      ]
    },
    {
      "cell_type": "code",
      "metadata": {
        "id": "P8Nk6cHHlMTp"
      },
      "source": [
        "image_size = 784 \r\n",
        "x_train = x_train.reshape(x_train.shape[0], image_size) \r\n",
        "x_test = x_test.reshape(x_test.shape[0], image_size)\r\n",
        "\r\n",
        "# Convert class vectors to binary class matrices\r\n",
        "num_classes = 10\r\n",
        "y_train = keras.utils.to_categorical(y_train, num_classes)\r\n",
        "y_test = keras.utils.to_categorical(y_test, num_classes)"
      ],
      "execution_count": 5,
      "outputs": []
    },
    {
      "cell_type": "code",
      "metadata": {
        "colab": {
          "base_uri": "https://localhost:8080/"
        },
        "id": "cd57X5vGlRLm",
        "outputId": "07a471e7-ec88-4f3e-fd19-8d29fe4eef1a"
      },
      "source": [
        "model = Sequential()\r\n",
        "\r\n",
        "\r\n",
        "model.add(Dense(units=200, activation='sigmoid', input_shape=(image_size,)))\r\n",
        "model.add(Dense(units=num_classes, activation='softmax'))\r\n",
        "model.summary()"
      ],
      "execution_count": 15,
      "outputs": [
        {
          "output_type": "stream",
          "text": [
            "Model: \"sequential_2\"\n",
            "_________________________________________________________________\n",
            "Layer (type)                 Output Shape              Param #   \n",
            "=================================================================\n",
            "dense_4 (Dense)              (None, 200)               157000    \n",
            "_________________________________________________________________\n",
            "dense_5 (Dense)              (None, 10)                2010      \n",
            "=================================================================\n",
            "Total params: 159,010\n",
            "Trainable params: 159,010\n",
            "Non-trainable params: 0\n",
            "_________________________________________________________________\n"
          ],
          "name": "stdout"
        }
      ]
    },
    {
      "cell_type": "code",
      "metadata": {
        "colab": {
          "base_uri": "https://localhost:8080/"
        },
        "id": "xaPp2EHhnzxD",
        "outputId": "b89a7c59-1acb-4af5-a782-d9e512176d97"
      },
      "source": [
        "model.compile(optimizer=\"sgd\", loss='categorical_crossentropy', metrics=['accuracy'])\r\n",
        "history = model.fit(x_train, y_train, epochs=5, validation_split=.1,validation_data=(x_test,y_test))\r\n"
      ],
      "execution_count": 16,
      "outputs": [
        {
          "output_type": "stream",
          "text": [
            "Epoch 1/5\n",
            "1688/1688 [==============================] - 4s 2ms/step - loss: 0.9273 - accuracy: 0.7468 - val_loss: 0.3221 - val_accuracy: 0.9192\n",
            "Epoch 2/5\n",
            "1688/1688 [==============================] - 4s 2ms/step - loss: 0.3655 - accuracy: 0.8995 - val_loss: 0.2543 - val_accuracy: 0.9342\n",
            "Epoch 3/5\n",
            "1688/1688 [==============================] - 4s 2ms/step - loss: 0.2937 - accuracy: 0.9193 - val_loss: 0.2325 - val_accuracy: 0.9358\n",
            "Epoch 4/5\n",
            "1688/1688 [==============================] - 4s 2ms/step - loss: 0.2664 - accuracy: 0.9245 - val_loss: 0.2178 - val_accuracy: 0.9410\n",
            "Epoch 5/5\n",
            "1688/1688 [==============================] - 4s 2ms/step - loss: 0.2504 - accuracy: 0.9300 - val_loss: 0.2000 - val_accuracy: 0.9467\n"
          ],
          "name": "stdout"
        }
      ]
    },
    {
      "cell_type": "code",
      "metadata": {
        "colab": {
          "base_uri": "https://localhost:8080/",
          "height": 295
        },
        "id": "BnVQhfhIoEc4",
        "outputId": "f024ff9a-e934-4eef-a5a5-1bf14091ab0d"
      },
      "source": [
        "plt.plot(history.history['accuracy'])\r\n",
        "plt.plot(history.history['val_accuracy'])\r\n",
        "plt.title('model accuracy')\r\n",
        "plt.ylabel('accuracy')\r\n",
        "plt.xlabel('epoch')\r\n",
        "plt.legend(['training', 'validation'], loc='best')\r\n",
        "plt.show()"
      ],
      "execution_count": 17,
      "outputs": [
        {
          "output_type": "display_data",
          "data": {
            "image/png": "[encoded data removed]",
            "text/plain": [
              "<Figure size 432x288 with 1 Axes>"
            ]
          },
          "metadata": {
            "tags": [],
            "needs_background": "light"
          }
        }
      ]
    },
    {
      "cell_type": "markdown",
      "metadata": {
        "id": "XXqF0FNSpnEU"
      },
      "source": [
        "2nd Network:"
      ]
    },
    {
      "cell_type": "code",
      "metadata": {
        "colab": {
          "base_uri": "https://localhost:8080/"
        },
        "id": "Oxw0JQyxonPv",
        "outputId": "575359d0-ea20-4234-fc69-e0536ed955c1"
      },
      "source": [
        "model_1 = Sequential()\r\n",
        "model_1.add(Dense(units=200, activation='sigmoid', input_shape=(image_size,)))\r\n",
        "model_1.add(Dense(units=200,activation='sigmoid'))\r\n",
        "model_1.add(Dense(units=num_classes, activation='softmax'))\r\n",
        "model_1.summary()"
      ],
      "execution_count": 19,
      "outputs": [
        {
          "output_type": "stream",
          "text": [
            "Model: \"sequential_4\"\n",
            "_________________________________________________________________\n",
            "Layer (type)                 Output Shape              Param #   \n",
            "=================================================================\n",
            "dense_9 (Dense)              (None, 200)               157000    \n",
            "_________________________________________________________________\n",
            "dense_10 (Dense)             (None, 200)               40200     \n",
            "_________________________________________________________________\n",
            "dense_11 (Dense)             (None, 10)                2010      \n",
            "=================================================================\n",
            "Total params: 199,210\n",
            "Trainable params: 199,210\n",
            "Non-trainable params: 0\n",
            "_________________________________________________________________\n"
          ],
          "name": "stdout"
        }
      ]
    },
    {
      "cell_type": "code",
      "metadata": {
        "colab": {
          "base_uri": "https://localhost:8080/"
        },
        "id": "2nu3JwyPp1UX",
        "outputId": "8a56c666-4012-4bae-efbb-fa1ab94815a8"
      },
      "source": [
        "model_1.compile(optimizer=\"sgd\", loss='categorical_crossentropy', metrics=['accuracy'])\r\n",
        "history = model_1.fit(x_train, y_train, epochs=15, validation_split=.1,validation_data=(x_test,y_test))"
      ],
      "execution_count": 21,
      "outputs": [
        {
          "output_type": "stream",
          "text": [
            "Epoch 1/15\n",
            "1688/1688 [==============================] - 4s 2ms/step - loss: 0.2652 - accuracy: 0.9263 - val_loss: 0.2097 - val_accuracy: 0.9433\n",
            "Epoch 2/15\n",
            "1688/1688 [==============================] - 4s 2ms/step - loss: 0.2430 - accuracy: 0.9320 - val_loss: 0.2001 - val_accuracy: 0.9480\n",
            "Epoch 3/15\n",
            "1688/1688 [==============================] - 4s 2ms/step - loss: 0.2272 - accuracy: 0.9365 - val_loss: 0.1909 - val_accuracy: 0.9473\n",
            "Epoch 4/15\n",
            "1688/1688 [==============================] - 4s 2ms/step - loss: 0.2223 - accuracy: 0.9393 - val_loss: 0.1817 - val_accuracy: 0.9507\n",
            "Epoch 5/15\n",
            "1688/1688 [==============================] - 4s 2ms/step - loss: 0.2100 - accuracy: 0.9410 - val_loss: 0.1713 - val_accuracy: 0.9570\n",
            "Epoch 6/15\n",
            "1688/1688 [==============================] - 4s 2ms/step - loss: 0.1961 - accuracy: 0.9459 - val_loss: 0.1664 - val_accuracy: 0.9562\n",
            "Epoch 7/15\n",
            "1688/1688 [==============================] - 4s 2ms/step - loss: 0.1872 - accuracy: 0.9473 - val_loss: 0.1551 - val_accuracy: 0.9580\n",
            "Epoch 8/15\n",
            "1688/1688 [==============================] - 4s 2ms/step - loss: 0.1849 - accuracy: 0.9480 - val_loss: 0.1565 - val_accuracy: 0.9585\n",
            "Epoch 9/15\n",
            "1688/1688 [==============================] - 4s 2ms/step - loss: 0.1762 - accuracy: 0.9497 - val_loss: 0.1577 - val_accuracy: 0.9587\n",
            "Epoch 10/15\n",
            "1688/1688 [==============================] - 4s 2ms/step - loss: 0.1779 - accuracy: 0.9494 - val_loss: 0.1543 - val_accuracy: 0.9588\n",
            "Epoch 11/15\n",
            "1688/1688 [==============================] - 4s 2ms/step - loss: 0.1709 - accuracy: 0.9527 - val_loss: 0.1544 - val_accuracy: 0.9578\n",
            "Epoch 12/15\n",
            "1688/1688 [==============================] - 4s 2ms/step - loss: 0.1727 - accuracy: 0.9505 - val_loss: 0.1478 - val_accuracy: 0.9560\n",
            "Epoch 13/15\n",
            "1688/1688 [==============================] - 4s 2ms/step - loss: 0.1609 - accuracy: 0.9537 - val_loss: 0.1442 - val_accuracy: 0.9593\n",
            "Epoch 14/15\n",
            "1688/1688 [==============================] - 4s 2ms/step - loss: 0.1589 - accuracy: 0.9536 - val_loss: 0.1412 - val_accuracy: 0.9608\n",
            "Epoch 15/15\n",
            "1688/1688 [==============================] - 4s 2ms/step - loss: 0.1565 - accuracy: 0.9553 - val_loss: 0.1412 - val_accuracy: 0.9592\n"
          ],
          "name": "stdout"
        }
      ]
    },
    {
      "cell_type": "code",
      "metadata": {
        "colab": {
          "base_uri": "https://localhost:8080/",
          "height": 295
        },
        "id": "0-r1ZyAAp_tB",
        "outputId": "85300572-dc19-48f3-eaec-97d5c5bb68d1"
      },
      "source": [
        "plt.plot(history.history['accuracy'])\r\n",
        "plt.plot(history.history['val_accuracy'])\r\n",
        "plt.title('model accuracy')\r\n",
        "plt.ylabel('accuracy')\r\n",
        "plt.xlabel('epoch')\r\n",
        "plt.legend(['training', 'validation'], loc='best')\r\n",
        "plt.show()"
      ],
      "execution_count": 22,
      "outputs": [
        {
          "output_type": "display_data",
          "data": {
            "image/png": "[encoded data removed]",
            "text/plain": [
              "<Figure size 432x288 with 1 Axes>"
            ]
          },
          "metadata": {
            "tags": [],
            "needs_background": "light"
          }
        }
      ]
    },
    {
      "cell_type": "markdown",
      "metadata": {
        "id": "rD-Ca4G4qc3W"
      },
      "source": [
        "3rd Network--->"
      ]
    },
    {
      "cell_type": "code",
      "metadata": {
        "colab": {
          "base_uri": "https://localhost:8080/"
        },
        "id": "kJ35CWS9qYk_",
        "outputId": "828a57ff-095a-470e-899a-a2607cad6c55"
      },
      "source": [
        "model_2 = Sequential()\r\n",
        "model_2.add(Dense(units=200, activation='sigmoid', input_shape=(image_size,)))\r\n",
        "model_2.add(Dense(units=128,activation='sigmoid'))\r\n",
        "model_2.add(Dense(units=64,activation='sigmoid'))\r\n",
        "model_2.add(Dense(units=100,activation='sigmoid'))\r\n",
        "model_2.add(Dense(units=50,activation='sigmoid'))\r\n",
        "model_2.add(Dense(units=num_classes, activation='softmax'))\r\n",
        "model_2.summary()"
      ],
      "execution_count": 23,
      "outputs": [
        {
          "output_type": "stream",
          "text": [
            "Model: \"sequential_5\"\n",
            "_________________________________________________________________\n",
            "Layer (type)                 Output Shape              Param #   \n",
            "=================================================================\n",
            "dense_12 (Dense)             (None, 200)               157000    \n",
            "_________________________________________________________________\n",
            "dense_13 (Dense)             (None, 128)               25728     \n",
            "_________________________________________________________________\n",
            "dense_14 (Dense)             (None, 64)                8256      \n",
            "_________________________________________________________________\n",
            "dense_15 (Dense)             (None, 100)               6500      \n",
            "_________________________________________________________________\n",
            "dense_16 (Dense)             (None, 50)                5050      \n",
            "_________________________________________________________________\n",
            "dense_17 (Dense)             (None, 10)                510       \n",
            "=================================================================\n",
            "Total params: 203,044\n",
            "Trainable params: 203,044\n",
            "Non-trainable params: 0\n",
            "_________________________________________________________________\n"
          ],
          "name": "stdout"
        }
      ]
    },
    {
      "cell_type": "code",
      "metadata": {
        "colab": {
          "base_uri": "https://localhost:8080/"
        },
        "id": "u9rC8yqgqw6v",
        "outputId": "432bcaa1-60d9-44c2-a2ec-52a9c1639fe2"
      },
      "source": [
        "model_2.compile(optimizer=\"sgd\", loss='categorical_crossentropy', metrics=['accuracy'])\r\n",
        "history_2 = model_2.fit(x_train, y_train, epochs=35, validation_split=.1,validation_data=(x_test,y_test))"
      ],
      "execution_count": 25,
      "outputs": [
        {
          "output_type": "stream",
          "text": [
            "Epoch 1/35\n",
            "1688/1688 [==============================] - 4s 2ms/step - loss: 1.0323 - accuracy: 0.6525 - val_loss: 0.9255 - val_accuracy: 0.7097\n",
            "Epoch 2/35\n",
            "1688/1688 [==============================] - 4s 2ms/step - loss: 0.9335 - accuracy: 0.6995 - val_loss: 0.8611 - val_accuracy: 0.7682\n",
            "Epoch 3/35\n",
            "1688/1688 [==============================] - 4s 2ms/step - loss: 0.8569 - accuracy: 0.7556 - val_loss: 0.7594 - val_accuracy: 0.8057\n",
            "Epoch 4/35\n",
            "1688/1688 [==============================] - 4s 2ms/step - loss: 0.7939 - accuracy: 0.7822 - val_loss: 0.7099 - val_accuracy: 0.8092\n",
            "Epoch 5/35\n",
            "1688/1688 [==============================] - 4s 2ms/step - loss: 0.7136 - accuracy: 0.8052 - val_loss: 0.6594 - val_accuracy: 0.8148\n",
            "Epoch 6/35\n",
            "1688/1688 [==============================] - 4s 2ms/step - loss: 0.6690 - accuracy: 0.8163 - val_loss: 0.6227 - val_accuracy: 0.8348\n",
            "Epoch 7/35\n",
            "1688/1688 [==============================] - 4s 2ms/step - loss: 0.6551 - accuracy: 0.8182 - val_loss: 0.5895 - val_accuracy: 0.8537\n",
            "Epoch 8/35\n",
            "1688/1688 [==============================] - 4s 2ms/step - loss: 0.6351 - accuracy: 0.8240 - val_loss: 0.5875 - val_accuracy: 0.8442\n",
            "Epoch 9/35\n",
            "1688/1688 [==============================] - 4s 2ms/step - loss: 0.6131 - accuracy: 0.8299 - val_loss: 0.5905 - val_accuracy: 0.8352\n",
            "Epoch 10/35\n",
            "1688/1688 [==============================] - 4s 2ms/step - loss: 0.6247 - accuracy: 0.8209 - val_loss: 0.5471 - val_accuracy: 0.8503\n",
            "Epoch 11/35\n",
            "1688/1688 [==============================] - 4s 2ms/step - loss: 0.5926 - accuracy: 0.8323 - val_loss: 0.4899 - val_accuracy: 0.8720\n",
            "Epoch 12/35\n",
            "1688/1688 [==============================] - 4s 2ms/step - loss: 0.5655 - accuracy: 0.8429 - val_loss: 0.5699 - val_accuracy: 0.8268\n",
            "Epoch 13/35\n",
            "1688/1688 [==============================] - 4s 2ms/step - loss: 0.5860 - accuracy: 0.8330 - val_loss: 0.4840 - val_accuracy: 0.8672\n",
            "Epoch 14/35\n",
            "1688/1688 [==============================] - 4s 2ms/step - loss: 0.5257 - accuracy: 0.8532 - val_loss: 0.4813 - val_accuracy: 0.8680\n",
            "Epoch 15/35\n",
            "1688/1688 [==============================] - 4s 2ms/step - loss: 0.5139 - accuracy: 0.8554 - val_loss: 0.4265 - val_accuracy: 0.8812\n",
            "Epoch 16/35\n",
            "1688/1688 [==============================] - 4s 2ms/step - loss: 0.4818 - accuracy: 0.8651 - val_loss: 0.4217 - val_accuracy: 0.8863\n",
            "Epoch 17/35\n",
            "1688/1688 [==============================] - 4s 2ms/step - loss: 0.4600 - accuracy: 0.8728 - val_loss: 0.3880 - val_accuracy: 0.8972\n",
            "Epoch 18/35\n",
            "1688/1688 [==============================] - 4s 3ms/step - loss: 0.4567 - accuracy: 0.8750 - val_loss: 0.4107 - val_accuracy: 0.8897\n",
            "Epoch 19/35\n",
            "1688/1688 [==============================] - 4s 3ms/step - loss: 0.4548 - accuracy: 0.8724 - val_loss: 0.4140 - val_accuracy: 0.8873\n",
            "Epoch 20/35\n",
            "1688/1688 [==============================] - 4s 3ms/step - loss: 0.4395 - accuracy: 0.8776 - val_loss: 0.3908 - val_accuracy: 0.8950\n",
            "Epoch 21/35\n",
            "1688/1688 [==============================] - 4s 2ms/step - loss: 0.4254 - accuracy: 0.8792 - val_loss: 0.3673 - val_accuracy: 0.9010\n",
            "Epoch 22/35\n",
            "1688/1688 [==============================] - 4s 2ms/step - loss: 0.4251 - accuracy: 0.8803 - val_loss: 0.3474 - val_accuracy: 0.9093\n",
            "Epoch 23/35\n",
            "1688/1688 [==============================] - 4s 2ms/step - loss: 0.3853 - accuracy: 0.8919 - val_loss: 0.3619 - val_accuracy: 0.9060\n",
            "Epoch 24/35\n",
            "1688/1688 [==============================] - 4s 2ms/step - loss: 0.3943 - accuracy: 0.8893 - val_loss: 0.3441 - val_accuracy: 0.9117\n",
            "Epoch 25/35\n",
            "1688/1688 [==============================] - 4s 2ms/step - loss: 0.3751 - accuracy: 0.8978 - val_loss: 0.3441 - val_accuracy: 0.9095\n",
            "Epoch 26/35\n",
            "1688/1688 [==============================] - 4s 2ms/step - loss: 0.3985 - accuracy: 0.8855 - val_loss: 0.3356 - val_accuracy: 0.9093\n",
            "Epoch 27/35\n",
            "1688/1688 [==============================] - 4s 2ms/step - loss: 0.3716 - accuracy: 0.8960 - val_loss: 0.3109 - val_accuracy: 0.9212\n",
            "Epoch 28/35\n",
            "1688/1688 [==============================] - 4s 2ms/step - loss: 0.3473 - accuracy: 0.9064 - val_loss: 0.3042 - val_accuracy: 0.9188\n",
            "Epoch 29/35\n",
            "1688/1688 [==============================] - 4s 2ms/step - loss: 0.3381 - accuracy: 0.9057 - val_loss: 0.3243 - val_accuracy: 0.9110\n",
            "Epoch 30/35\n",
            "1688/1688 [==============================] - 4s 2ms/step - loss: 0.3565 - accuracy: 0.9027 - val_loss: 0.2937 - val_accuracy: 0.9250\n",
            "Epoch 31/35\n",
            "1688/1688 [==============================] - 4s 2ms/step - loss: 0.3410 - accuracy: 0.9060 - val_loss: 0.2950 - val_accuracy: 0.9208\n",
            "Epoch 32/35\n",
            "1688/1688 [==============================] - 4s 2ms/step - loss: 0.3292 - accuracy: 0.9100 - val_loss: 0.2863 - val_accuracy: 0.9282\n",
            "Epoch 33/35\n",
            "1688/1688 [==============================] - 4s 2ms/step - loss: 0.3208 - accuracy: 0.9148 - val_loss: 0.2797 - val_accuracy: 0.9303\n",
            "Epoch 34/35\n",
            "1688/1688 [==============================] - 4s 2ms/step - loss: 0.3218 - accuracy: 0.9119 - val_loss: 0.3097 - val_accuracy: 0.9167\n",
            "Epoch 35/35\n",
            "1688/1688 [==============================] - 4s 2ms/step - loss: 0.3249 - accuracy: 0.9118 - val_loss: 0.3026 - val_accuracy: 0.9193\n"
          ],
          "name": "stdout"
        }
      ]
    },
    {
      "cell_type": "code",
      "metadata": {
        "colab": {
          "base_uri": "https://localhost:8080/",
          "height": 295
        },
        "id": "BlPdUTszq3as",
        "outputId": "2255d349-ecfc-459e-acc2-36af91edcdce"
      },
      "source": [
        "plt.plot(history_2.history['accuracy'])\r\n",
        "plt.plot(history_2.history['val_accuracy'])\r\n",
        "plt.title('model accuracy')\r\n",
        "plt.ylabel('accuracy')\r\n",
        "plt.xlabel('epoch')\r\n",
        "plt.legend(['training', 'validation'], loc='best')\r\n",
        "plt.show()"
      ],
      "execution_count": 26,
      "outputs": [
        {
          "output_type": "display_data",
          "data": {
            "image/png": "[encoded data removed]",
            "text/plain": [
              "<Figure size 432x288 with 1 Axes>"
            ]
          },
          "metadata": {
            "tags": [],
            "needs_background": "light"
          }
        }
      ]
    },
    {
      "cell_type": "markdown",
      "metadata": {
        "id": "9GuBFgo3rxVN"
      },
      "source": [
        "Network 4"
      ]
    },
    {
      "cell_type": "code",
      "metadata": {
        "colab": {
          "base_uri": "https://localhost:8080/"
        },
        "id": "2y1FvVn-rvVr",
        "outputId": "8fe71536-7b88-48d5-9cfa-41bde3d99394"
      },
      "source": [
        "model_3 = Sequential()\r\n",
        "model_3.add(Dense(units=200, activation='relu', input_shape=(image_size,)))\r\n",
        "model_3.add(Dense(units=200,activation='tanh'))\r\n",
        "model_3.add(Dense(units=num_classes, activation='softmax'))\r\n",
        "model_3.summary()"
      ],
      "execution_count": 27,
      "outputs": [
        {
          "output_type": "stream",
          "text": [
            "Model: \"sequential_6\"\n",
            "_________________________________________________________________\n",
            "Layer (type)                 Output Shape              Param #   \n",
            "=================================================================\n",
            "dense_18 (Dense)             (None, 200)               157000    \n",
            "_________________________________________________________________\n",
            "dense_19 (Dense)             (None, 200)               40200     \n",
            "_________________________________________________________________\n",
            "dense_20 (Dense)             (None, 10)                2010      \n",
            "=================================================================\n",
            "Total params: 199,210\n",
            "Trainable params: 199,210\n",
            "Non-trainable params: 0\n",
            "_________________________________________________________________\n"
          ],
          "name": "stdout"
        }
      ]
    },
    {
      "cell_type": "code",
      "metadata": {
        "colab": {
          "base_uri": "https://localhost:8080/"
        },
        "id": "YZvO7FsasDK-",
        "outputId": "b8cf4b4a-e20a-4bd6-8a84-6c9e3198a8a7"
      },
      "source": [
        "model_3.compile(optimizer=\"sgd\", loss='categorical_crossentropy', metrics=['accuracy'])\r\n",
        "history_3 = model_3.fit(x_train, y_train, epochs=35, validation_split=.1,validation_data=(x_test,y_test))"
      ],
      "execution_count": 28,
      "outputs": [
        {
          "output_type": "stream",
          "text": [
            "Epoch 1/35\n",
            "1688/1688 [==============================] - 4s 2ms/step - loss: 0.9356 - accuracy: 0.7106 - val_loss: 0.3088 - val_accuracy: 0.9075\n",
            "Epoch 2/35\n",
            "1688/1688 [==============================] - 4s 2ms/step - loss: 0.3618 - accuracy: 0.8924 - val_loss: 0.2532 - val_accuracy: 0.9242\n",
            "Epoch 3/35\n",
            "1688/1688 [==============================] - 4s 2ms/step - loss: 0.2927 - accuracy: 0.9153 - val_loss: 0.2204 - val_accuracy: 0.9375\n",
            "Epoch 4/35\n",
            "1688/1688 [==============================] - 4s 2ms/step - loss: 0.2615 - accuracy: 0.9235 - val_loss: 0.2056 - val_accuracy: 0.9408\n",
            "Epoch 5/35\n",
            "1688/1688 [==============================] - 4s 2ms/step - loss: 0.2413 - accuracy: 0.9261 - val_loss: 0.1923 - val_accuracy: 0.9418\n",
            "Epoch 6/35\n",
            "1688/1688 [==============================] - 4s 2ms/step - loss: 0.2212 - accuracy: 0.9341 - val_loss: 0.1787 - val_accuracy: 0.9477\n",
            "Epoch 7/35\n",
            "1688/1688 [==============================] - 4s 2ms/step - loss: 0.2112 - accuracy: 0.9359 - val_loss: 0.1750 - val_accuracy: 0.9480\n",
            "Epoch 8/35\n",
            "1688/1688 [==============================] - 4s 2ms/step - loss: 0.1989 - accuracy: 0.9411 - val_loss: 0.1665 - val_accuracy: 0.9512\n",
            "Epoch 9/35\n",
            "1688/1688 [==============================] - 4s 2ms/step - loss: 0.1935 - accuracy: 0.9425 - val_loss: 0.1560 - val_accuracy: 0.9565\n",
            "Epoch 10/35\n",
            "1688/1688 [==============================] - 4s 2ms/step - loss: 0.1794 - accuracy: 0.9464 - val_loss: 0.1598 - val_accuracy: 0.9532\n",
            "Epoch 11/35\n",
            "1688/1688 [==============================] - 4s 2ms/step - loss: 0.1801 - accuracy: 0.9474 - val_loss: 0.1538 - val_accuracy: 0.9567\n",
            "Epoch 12/35\n",
            "1688/1688 [==============================] - 4s 2ms/step - loss: 0.1727 - accuracy: 0.9483 - val_loss: 0.1524 - val_accuracy: 0.9580\n",
            "Epoch 13/35\n",
            "1688/1688 [==============================] - 4s 2ms/step - loss: 0.1688 - accuracy: 0.9499 - val_loss: 0.1424 - val_accuracy: 0.9565\n",
            "Epoch 14/35\n",
            "1688/1688 [==============================] - 4s 2ms/step - loss: 0.1579 - accuracy: 0.9535 - val_loss: 0.1496 - val_accuracy: 0.9553\n",
            "Epoch 15/35\n",
            "1688/1688 [==============================] - 4s 2ms/step - loss: 0.1606 - accuracy: 0.9515 - val_loss: 0.1470 - val_accuracy: 0.9585\n",
            "Epoch 16/35\n",
            "1688/1688 [==============================] - 4s 2ms/step - loss: 0.1540 - accuracy: 0.9539 - val_loss: 0.1407 - val_accuracy: 0.9587\n",
            "Epoch 17/35\n",
            "1688/1688 [==============================] - 4s 2ms/step - loss: 0.1454 - accuracy: 0.9558 - val_loss: 0.1441 - val_accuracy: 0.9580\n",
            "Epoch 18/35\n",
            "1688/1688 [==============================] - 4s 2ms/step - loss: 0.1614 - accuracy: 0.9518 - val_loss: 0.1320 - val_accuracy: 0.9623\n",
            "Epoch 19/35\n",
            "1688/1688 [==============================] - 4s 2ms/step - loss: 0.1638 - accuracy: 0.9498 - val_loss: 0.1501 - val_accuracy: 0.9570\n",
            "Epoch 20/35\n",
            "1688/1688 [==============================] - 4s 2ms/step - loss: 0.1540 - accuracy: 0.9539 - val_loss: 0.1373 - val_accuracy: 0.9618\n",
            "Epoch 21/35\n",
            "1688/1688 [==============================] - 4s 2ms/step - loss: 0.1492 - accuracy: 0.9552 - val_loss: 0.1265 - val_accuracy: 0.9645\n",
            "Epoch 22/35\n",
            "1688/1688 [==============================] - 4s 2ms/step - loss: 0.1391 - accuracy: 0.9584 - val_loss: 0.1356 - val_accuracy: 0.9640\n",
            "Epoch 23/35\n",
            "1688/1688 [==============================] - 4s 2ms/step - loss: 0.1465 - accuracy: 0.9547 - val_loss: 0.1325 - val_accuracy: 0.9617\n",
            "Epoch 24/35\n",
            "1688/1688 [==============================] - 4s 2ms/step - loss: 0.1448 - accuracy: 0.9565 - val_loss: 0.1353 - val_accuracy: 0.9603\n",
            "Epoch 25/35\n",
            "1688/1688 [==============================] - 4s 2ms/step - loss: 0.1399 - accuracy: 0.9565 - val_loss: 0.1353 - val_accuracy: 0.9598\n",
            "Epoch 26/35\n",
            "1688/1688 [==============================] - 4s 2ms/step - loss: 0.1322 - accuracy: 0.9597 - val_loss: 0.1148 - val_accuracy: 0.9693\n",
            "Epoch 27/35\n",
            "1688/1688 [==============================] - 4s 2ms/step - loss: 0.1290 - accuracy: 0.9610 - val_loss: 0.1325 - val_accuracy: 0.9648\n",
            "Epoch 28/35\n",
            "1688/1688 [==============================] - 4s 2ms/step - loss: 0.1347 - accuracy: 0.9589 - val_loss: 0.1306 - val_accuracy: 0.9618\n",
            "Epoch 29/35\n",
            "1688/1688 [==============================] - 4s 2ms/step - loss: 0.1330 - accuracy: 0.9584 - val_loss: 0.1259 - val_accuracy: 0.9650\n",
            "Epoch 30/35\n",
            "1688/1688 [==============================] - 4s 2ms/step - loss: 0.1290 - accuracy: 0.9599 - val_loss: 0.1328 - val_accuracy: 0.9612\n",
            "Epoch 31/35\n",
            "1688/1688 [==============================] - 4s 2ms/step - loss: 0.1254 - accuracy: 0.9621 - val_loss: 0.1287 - val_accuracy: 0.9602\n",
            "Epoch 32/35\n",
            "1688/1688 [==============================] - 4s 2ms/step - loss: 0.1249 - accuracy: 0.9600 - val_loss: 0.1298 - val_accuracy: 0.9618\n",
            "Epoch 33/35\n",
            "1688/1688 [==============================] - 4s 2ms/step - loss: 0.1279 - accuracy: 0.9617 - val_loss: 0.1233 - val_accuracy: 0.9628\n",
            "Epoch 34/35\n",
            "1688/1688 [==============================] - 4s 2ms/step - loss: 0.1229 - accuracy: 0.9621 - val_loss: 0.1302 - val_accuracy: 0.9623\n",
            "Epoch 35/35\n",
            "1688/1688 [==============================] - 4s 2ms/step - loss: 0.1293 - accuracy: 0.9620 - val_loss: 0.1267 - val_accuracy: 0.9660\n"
          ],
          "name": "stdout"
        }
      ]
    },
    {
      "cell_type": "code",
      "metadata": {
        "colab": {
          "base_uri": "https://localhost:8080/",
          "height": 295
        },
        "id": "r_BF1FAisIcr",
        "outputId": "79dd9c5f-1f3e-4838-dfb3-46c1ed297cb9"
      },
      "source": [
        "plt.plot(history_3.history['accuracy'])\r\n",
        "plt.plot(history_3.history['val_accuracy'])\r\n",
        "plt.title('model accuracy')\r\n",
        "plt.ylabel('accuracy')\r\n",
        "plt.xlabel('epoch')\r\n",
        "plt.legend(['training', 'validation'], loc='best')\r\n",
        "plt.show()"
      ],
      "execution_count": 29,
      "outputs": [
        {
          "output_type": "display_data",
          "data": {
            "image/png": "[encoded data removed]",
            "text/plain": [
              "<Figure size 432x288 with 1 Axes>"
            ]
          },
          "metadata": {
            "tags": [],
            "needs_background": "light"
          }
        }
      ]
    },
    {
      "cell_type": "markdown",
      "metadata": {
        "id": "GjjjM3QstJ49"
      },
      "source": [
        "Network 5"
      ]
    },
    {
      "cell_type": "code",
      "metadata": {
        "colab": {
          "base_uri": "https://localhost:8080/"
        },
        "id": "MizDVP8ftF4N",
        "outputId": "34245b9c-3ea3-4e36-c13e-eca3a621a9ff"
      },
      "source": [
        "model_4 = Sequential()\r\n",
        "model_4.add(Dense(units=200, activation='relu', input_shape=(image_size,)))\r\n",
        "model_4.add(Dense(units=200,activation='tanh'))\r\n",
        "model_4.add(Dense(units=num_classes, activation='softmax'))\r\n",
        "model_4.summary()"
      ],
      "execution_count": 30,
      "outputs": [
        {
          "output_type": "stream",
          "text": [
            "Model: \"sequential_7\"\n",
            "_________________________________________________________________\n",
            "Layer (type)                 Output Shape              Param #   \n",
            "=================================================================\n",
            "dense_21 (Dense)             (None, 200)               157000    \n",
            "_________________________________________________________________\n",
            "dense_22 (Dense)             (None, 200)               40200     \n",
            "_________________________________________________________________\n",
            "dense_23 (Dense)             (None, 10)                2010      \n",
            "=================================================================\n",
            "Total params: 199,210\n",
            "Trainable params: 199,210\n",
            "Non-trainable params: 0\n",
            "_________________________________________________________________\n"
          ],
          "name": "stdout"
        }
      ]
    },
    {
      "cell_type": "code",
      "metadata": {
        "colab": {
          "base_uri": "https://localhost:8080/"
        },
        "id": "LXu9W9HWtWfr",
        "outputId": "19b94fc5-0880-488d-d723-0b1fa3efba21"
      },
      "source": [
        "model_4.compile(optimizer=\"sgd\", loss='categorical_crossentropy', metrics=['accuracy'])\r\n",
        "history_4 = model_4.fit(x_train, y_train, epochs=35,batch_size=10000, validation_split=.1,validation_data=(x_test,y_test))"
      ],
      "execution_count": 31,
      "outputs": [
        {
          "output_type": "stream",
          "text": [
            "Epoch 1/35\n",
            "6/6 [==============================] - 0s 41ms/step - loss: 2.7212 - accuracy: 0.1536 - val_loss: 1.9309 - val_accuracy: 0.3227\n",
            "Epoch 2/35\n",
            "6/6 [==============================] - 0s 15ms/step - loss: 1.8322 - accuracy: 0.3674 - val_loss: 1.5115 - val_accuracy: 0.4887\n",
            "Epoch 3/35\n",
            "6/6 [==============================] - 0s 16ms/step - loss: 1.4744 - accuracy: 0.5081 - val_loss: 1.2597 - val_accuracy: 0.5982\n",
            "Epoch 4/35\n",
            "6/6 [==============================] - 0s 14ms/step - loss: 1.2613 - accuracy: 0.5999 - val_loss: 1.0974 - val_accuracy: 0.6683\n",
            "Epoch 5/35\n",
            "6/6 [==============================] - 0s 14ms/step - loss: 1.1161 - accuracy: 0.6585 - val_loss: 0.9829 - val_accuracy: 0.7105\n",
            "Epoch 6/35\n",
            "6/6 [==============================] - 0s 14ms/step - loss: 1.0121 - accuracy: 0.6982 - val_loss: 0.8998 - val_accuracy: 0.7418\n",
            "Epoch 7/35\n",
            "6/6 [==============================] - 0s 16ms/step - loss: 0.9390 - accuracy: 0.7220 - val_loss: 0.8279 - val_accuracy: 0.7678\n",
            "Epoch 8/35\n",
            "6/6 [==============================] - 0s 15ms/step - loss: 0.8736 - accuracy: 0.7431 - val_loss: 0.7725 - val_accuracy: 0.7867\n",
            "Epoch 9/35\n",
            "6/6 [==============================] - 0s 14ms/step - loss: 0.8181 - accuracy: 0.7654 - val_loss: 0.7266 - val_accuracy: 0.8015\n",
            "Epoch 10/35\n",
            "6/6 [==============================] - 0s 15ms/step - loss: 0.7739 - accuracy: 0.7822 - val_loss: 0.6909 - val_accuracy: 0.8088\n",
            "Epoch 11/35\n",
            "6/6 [==============================] - 0s 16ms/step - loss: 0.7412 - accuracy: 0.7917 - val_loss: 0.6553 - val_accuracy: 0.8233\n",
            "Epoch 12/35\n",
            "6/6 [==============================] - 0s 15ms/step - loss: 0.7033 - accuracy: 0.8041 - val_loss: 0.6285 - val_accuracy: 0.8322\n",
            "Epoch 13/35\n",
            "6/6 [==============================] - 0s 14ms/step - loss: 0.6780 - accuracy: 0.8097 - val_loss: 0.6031 - val_accuracy: 0.8378\n",
            "Epoch 14/35\n",
            "6/6 [==============================] - 0s 15ms/step - loss: 0.6564 - accuracy: 0.8167 - val_loss: 0.5806 - val_accuracy: 0.8430\n",
            "Epoch 15/35\n",
            "6/6 [==============================] - 0s 16ms/step - loss: 0.6334 - accuracy: 0.8240 - val_loss: 0.5614 - val_accuracy: 0.8477\n",
            "Epoch 16/35\n",
            "6/6 [==============================] - 0s 14ms/step - loss: 0.6168 - accuracy: 0.8262 - val_loss: 0.5460 - val_accuracy: 0.8522\n",
            "Epoch 17/35\n",
            "6/6 [==============================] - 0s 14ms/step - loss: 0.5967 - accuracy: 0.8331 - val_loss: 0.5288 - val_accuracy: 0.8573\n",
            "Epoch 18/35\n",
            "6/6 [==============================] - 0s 15ms/step - loss: 0.5746 - accuracy: 0.8418 - val_loss: 0.5169 - val_accuracy: 0.8553\n",
            "Epoch 19/35\n",
            "6/6 [==============================] - 0s 14ms/step - loss: 0.5633 - accuracy: 0.8448 - val_loss: 0.5030 - val_accuracy: 0.8643\n",
            "Epoch 20/35\n",
            "6/6 [==============================] - 0s 15ms/step - loss: 0.5527 - accuracy: 0.8473 - val_loss: 0.4918 - val_accuracy: 0.8643\n",
            "Epoch 21/35\n",
            "6/6 [==============================] - 0s 15ms/step - loss: 0.5399 - accuracy: 0.8502 - val_loss: 0.4802 - val_accuracy: 0.8695\n",
            "Epoch 22/35\n",
            "6/6 [==============================] - 0s 14ms/step - loss: 0.5263 - accuracy: 0.8549 - val_loss: 0.4709 - val_accuracy: 0.8697\n",
            "Epoch 23/35\n",
            "6/6 [==============================] - 0s 40ms/step - loss: 0.5170 - accuracy: 0.8591 - val_loss: 0.4623 - val_accuracy: 0.8727\n",
            "Epoch 24/35\n",
            "6/6 [==============================] - 0s 15ms/step - loss: 0.5093 - accuracy: 0.8594 - val_loss: 0.4555 - val_accuracy: 0.8720\n",
            "Epoch 25/35\n",
            "6/6 [==============================] - 0s 16ms/step - loss: 0.4991 - accuracy: 0.8622 - val_loss: 0.4471 - val_accuracy: 0.8772\n",
            "Epoch 26/35\n",
            "6/6 [==============================] - 0s 15ms/step - loss: 0.4872 - accuracy: 0.8664 - val_loss: 0.4395 - val_accuracy: 0.8797\n",
            "Epoch 27/35\n",
            "6/6 [==============================] - 0s 15ms/step - loss: 0.4844 - accuracy: 0.8671 - val_loss: 0.4337 - val_accuracy: 0.8800\n",
            "Epoch 28/35\n",
            "6/6 [==============================] - 0s 14ms/step - loss: 0.4755 - accuracy: 0.8690 - val_loss: 0.4269 - val_accuracy: 0.8827\n",
            "Epoch 29/35\n",
            "6/6 [==============================] - 0s 14ms/step - loss: 0.4652 - accuracy: 0.8712 - val_loss: 0.4216 - val_accuracy: 0.8842\n",
            "Epoch 30/35\n",
            "6/6 [==============================] - 0s 14ms/step - loss: 0.4552 - accuracy: 0.8757 - val_loss: 0.4164 - val_accuracy: 0.8867\n",
            "Epoch 31/35\n",
            "6/6 [==============================] - 0s 14ms/step - loss: 0.4526 - accuracy: 0.8761 - val_loss: 0.4106 - val_accuracy: 0.8868\n",
            "Epoch 32/35\n",
            "6/6 [==============================] - 0s 16ms/step - loss: 0.4475 - accuracy: 0.8778 - val_loss: 0.4073 - val_accuracy: 0.8870\n",
            "Epoch 33/35\n",
            "6/6 [==============================] - 0s 15ms/step - loss: 0.4389 - accuracy: 0.8796 - val_loss: 0.4010 - val_accuracy: 0.8898\n",
            "Epoch 34/35\n",
            "6/6 [==============================] - 0s 14ms/step - loss: 0.4362 - accuracy: 0.8801 - val_loss: 0.3967 - val_accuracy: 0.8930\n",
            "Epoch 35/35\n",
            "6/6 [==============================] - 0s 14ms/step - loss: 0.4320 - accuracy: 0.8806 - val_loss: 0.3926 - val_accuracy: 0.8930\n"
          ],
          "name": "stdout"
        }
      ]
    },
    {
      "cell_type": "code",
      "metadata": {
        "colab": {
          "base_uri": "https://localhost:8080/",
          "height": 295
        },
        "id": "u2zKfO-MtdxR",
        "outputId": "2c2527f8-92c1-4be3-a50a-45e432d7b8c9"
      },
      "source": [
        "plt.plot(history_4.history['accuracy'])\r\n",
        "plt.plot(history_4.history['val_accuracy'])\r\n",
        "plt.title('model accuracy')\r\n",
        "plt.ylabel('accuracy')\r\n",
        "plt.xlabel('epoch')\r\n",
        "plt.legend(['training', 'validation'], loc='best')\r\n",
        "plt.show()"
      ],
      "execution_count": 32,
      "outputs": [
        {
          "output_type": "display_data",
          "data": {
            "image/png": "[encoded data removed]",
            "text/plain": [
              "<Figure size 432x288 with 1 Axes>"
            ]
          },
          "metadata": {
            "tags": [],
            "needs_background": "light"
          }
        }
      ]
    },
    {
      "cell_type": "markdown",
      "metadata": {
        "id": "1N8MSQGBtxj2"
      },
      "source": [
        "Network 6"
      ]
    },
    {
      "cell_type": "code",
      "metadata": {
        "colab": {
          "base_uri": "https://localhost:8080/",
          "height": 720
        },
        "id": "llp2TTBatu4O",
        "outputId": "dcecf4da-17d9-4c93-d726-5a2a88be6ff4"
      },
      "source": [
        "model_4.compile(optimizer=\"sgd\", loss='categorical_crossentropy', metrics=['accuracy'])\r\n",
        "history_5 = model_4.fit(x_train, y_train, epochs=35,batch_size=1, validation_split=.1,validation_data=(x_test,y_test))"
      ],
      "execution_count": 33,
      "outputs": [
        {
          "output_type": "stream",
          "text": [
            "Epoch 1/35\n",
            "54000/54000 [==============================] - 101s 2ms/step - loss: 2.7909 - accuracy: 0.1064 - val_loss: 2.5582 - val_accuracy: 0.1045\n",
            "Epoch 2/35\n",
            "54000/54000 [==============================] - 100s 2ms/step - loss: 2.8224 - accuracy: 0.1029 - val_loss: 3.7387 - val_accuracy: 0.1113\n",
            "Epoch 3/35\n",
            "54000/54000 [==============================] - 101s 2ms/step - loss: 2.7025 - accuracy: 0.1365 - val_loss: 2.7454 - val_accuracy: 0.1953\n",
            "Epoch 4/35\n",
            "54000/54000 [==============================] - 101s 2ms/step - loss: 2.4740 - accuracy: 0.2011 - val_loss: 2.9961 - val_accuracy: 0.0958\n",
            "Epoch 5/35\n",
            "54000/54000 [==============================] - 100s 2ms/step - loss: 2.7888 - accuracy: 0.1115 - val_loss: 2.5146 - val_accuracy: 0.1987\n",
            "Epoch 6/35\n",
            "54000/54000 [==============================] - 100s 2ms/step - loss: 2.3208 - accuracy: 0.2556 - val_loss: 1.9881 - val_accuracy: 0.2372\n",
            "Epoch 7/35\n",
            "54000/54000 [==============================] - 97s 2ms/step - loss: 2.3496 - accuracy: 0.2303 - val_loss: 2.2507 - val_accuracy: 0.2105\n",
            "Epoch 8/35\n",
            "54000/54000 [==============================] - 97s 2ms/step - loss: 2.4670 - accuracy: 0.2011 - val_loss: 2.0863 - val_accuracy: 0.2880\n",
            "Epoch 9/35\n",
            "54000/54000 [==============================] - 100s 2ms/step - loss: 2.2427 - accuracy: 0.2773 - val_loss: 2.1718 - val_accuracy: 0.2932\n",
            "Epoch 10/35\n",
            "54000/54000 [==============================] - 100s 2ms/step - loss: 2.0609 - accuracy: 0.3323 - val_loss: 1.9541 - val_accuracy: 0.3970\n",
            "Epoch 11/35\n",
            "  125/54000 [..............................] - ETA: 1:28 - loss: 2.0964 - accuracy: 0.2991"
          ],
          "name": "stdout"
        },
        {
          "output_type": "error",
          "ename": "KeyboardInterrupt",
          "evalue": "ignored",
          "traceback": [
            "\u001b[0;31m---------------------------------------------------------------------------\u001b[0m",
            "\u001b[0;31mKeyboardInterrupt\u001b[0m                         Traceback (most recent call last)",
            "\u001b[0;32m<ipython-input-33-8d84c81068c3>\u001b[0m in \u001b[0;36m<module>\u001b[0;34m()\u001b[0m\n\u001b[1;32m      1\u001b[0m \u001b[0mmodel_4\u001b[0m\u001b[0;34m.\u001b[0m\u001b[0mcompile\u001b[0m\u001b[0;34m(\u001b[0m\u001b[0moptimizer\u001b[0m\u001b[0;34m=\u001b[0m\u001b[0;34m\"sgd\"\u001b[0m\u001b[0;34m,\u001b[0m \u001b[0mloss\u001b[0m\u001b[0;34m=\u001b[0m\u001b[0;34m'categorical_crossentropy'\u001b[0m\u001b[0;34m,\u001b[0m \u001b[0mmetrics\u001b[0m\u001b[0;34m=\u001b[0m\u001b[0;34m[\u001b[0m\u001b[0;34m'accuracy'\u001b[0m\u001b[0;34m]\u001b[0m\u001b[0;34m)\u001b[0m\u001b[0;34m\u001b[0m\u001b[0;34m\u001b[0m\u001b[0m\n\u001b[0;32m----> 2\u001b[0;31m \u001b[0mhistory_5\u001b[0m \u001b[0;34m=\u001b[0m \u001b[0mmodel_4\u001b[0m\u001b[0;34m.\u001b[0m\u001b[0mfit\u001b[0m\u001b[0;34m(\u001b[0m\u001b[0mx_train\u001b[0m\u001b[0;34m,\u001b[0m \u001b[0my_train\u001b[0m\u001b[0;34m,\u001b[0m \u001b[0mepochs\u001b[0m\u001b[0;34m=\u001b[0m\u001b[0;36m35\u001b[0m\u001b[0;34m,\u001b[0m\u001b[0mbatch_size\u001b[0m\u001b[0;34m=\u001b[0m\u001b[0;36m1\u001b[0m\u001b[0;34m,\u001b[0m \u001b[0mvalidation_split\u001b[0m\u001b[0;34m=\u001b[0m\u001b[0;36m.1\u001b[0m\u001b[0;34m,\u001b[0m\u001b[0mvalidation_data\u001b[0m\u001b[0;34m=\u001b[0m\u001b[0;34m(\u001b[0m\u001b[0mx_test\u001b[0m\u001b[0;34m,\u001b[0m\u001b[0my_test\u001b[0m\u001b[0;34m)\u001b[0m\u001b[0;34m)\u001b[0m\u001b[0;34m\u001b[0m\u001b[0;34m\u001b[0m\u001b[0m\n\u001b[0m",
            "\u001b[0;32m/usr/local/lib/python3.6/dist-packages/tensorflow/python/keras/engine/training.py\u001b[0m in \u001b[0;36mfit\u001b[0;34m(self, x, y, batch_size, epochs, verbose, callbacks, validation_split, validation_data, shuffle, class_weight, sample_weight, initial_epoch, steps_per_epoch, validation_steps, validation_batch_size, validation_freq, max_queue_size, workers, use_multiprocessing)\u001b[0m\n\u001b[1;32m   1098\u001b[0m                 _r=1):\n\u001b[1;32m   1099\u001b[0m               \u001b[0mcallbacks\u001b[0m\u001b[0;34m.\u001b[0m\u001b[0mon_train_batch_begin\u001b[0m\u001b[0;34m(\u001b[0m\u001b[0mstep\u001b[0m\u001b[0;34m)\u001b[0m\u001b[0;34m\u001b[0m\u001b[0;34m\u001b[0m\u001b[0m\n\u001b[0;32m-> 1100\u001b[0;31m               \u001b[0mtmp_logs\u001b[0m \u001b[0;34m=\u001b[0m \u001b[0mself\u001b[0m\u001b[0;34m.\u001b[0m\u001b[0mtrain_function\u001b[0m\u001b[0;34m(\u001b[0m\u001b[0miterator\u001b[0m\u001b[0;34m)\u001b[0m\u001b[0;34m\u001b[0m\u001b[0;34m\u001b[0m\u001b[0m\n\u001b[0m\u001b[1;32m   1101\u001b[0m               \u001b[0;32mif\u001b[0m \u001b[0mdata_handler\u001b[0m\u001b[0;34m.\u001b[0m\u001b[0mshould_sync\u001b[0m\u001b[0;34m:\u001b[0m\u001b[0;34m\u001b[0m\u001b[0;34m\u001b[0m\u001b[0m\n\u001b[1;32m   1102\u001b[0m                 \u001b[0mcontext\u001b[0m\u001b[0;34m.\u001b[0m\u001b[0masync_wait\u001b[0m\u001b[0;34m(\u001b[0m\u001b[0;34m)\u001b[0m\u001b[0;34m\u001b[0m\u001b[0;34m\u001b[0m\u001b[0m\n",
            "\u001b[0;32m/usr/local/lib/python3.6/dist-packages/tensorflow/python/eager/def_function.py\u001b[0m in \u001b[0;36m__call__\u001b[0;34m(self, *args, **kwds)\u001b[0m\n\u001b[1;32m    826\u001b[0m     \u001b[0mtracing_count\u001b[0m \u001b[0;34m=\u001b[0m \u001b[0mself\u001b[0m\u001b[0;34m.\u001b[0m\u001b[0mexperimental_get_tracing_count\u001b[0m\u001b[0;34m(\u001b[0m\u001b[0;34m)\u001b[0m\u001b[0;34m\u001b[0m\u001b[0;34m\u001b[0m\u001b[0m\n\u001b[1;32m    827\u001b[0m     \u001b[0;32mwith\u001b[0m \u001b[0mtrace\u001b[0m\u001b[0;34m.\u001b[0m\u001b[0mTrace\u001b[0m\u001b[0;34m(\u001b[0m\u001b[0mself\u001b[0m\u001b[0;34m.\u001b[0m\u001b[0m_name\u001b[0m\u001b[0;34m)\u001b[0m \u001b[0;32mas\u001b[0m \u001b[0mtm\u001b[0m\u001b[0;34m:\u001b[0m\u001b[0;34m\u001b[0m\u001b[0;34m\u001b[0m\u001b[0m\n\u001b[0;32m--> 828\u001b[0;31m       \u001b[0mresult\u001b[0m \u001b[0;34m=\u001b[0m \u001b[0mself\u001b[0m\u001b[0;34m.\u001b[0m\u001b[0m_call\u001b[0m\u001b[0;34m(\u001b[0m\u001b[0;34m*\u001b[0m\u001b[0margs\u001b[0m\u001b[0;34m,\u001b[0m \u001b[0;34m**\u001b[0m\u001b[0mkwds\u001b[0m\u001b[0;34m)\u001b[0m\u001b[0;34m\u001b[0m\u001b[0;34m\u001b[0m\u001b[0m\n\u001b[0m\u001b[1;32m    829\u001b[0m       \u001b[0mcompiler\u001b[0m \u001b[0;34m=\u001b[0m \u001b[0;34m\"xla\"\u001b[0m \u001b[0;32mif\u001b[0m \u001b[0mself\u001b[0m\u001b[0;34m.\u001b[0m\u001b[0m_experimental_compile\u001b[0m \u001b[0;32melse\u001b[0m \u001b[0;34m\"nonXla\"\u001b[0m\u001b[0;34m\u001b[0m\u001b[0;34m\u001b[0m\u001b[0m\n\u001b[1;32m    830\u001b[0m       \u001b[0mnew_tracing_count\u001b[0m \u001b[0;34m=\u001b[0m \u001b[0mself\u001b[0m\u001b[0;34m.\u001b[0m\u001b[0mexperimental_get_tracing_count\u001b[0m\u001b[0;34m(\u001b[0m\u001b[0;34m)\u001b[0m\u001b[0;34m\u001b[0m\u001b[0;34m\u001b[0m\u001b[0m\n",
            "\u001b[0;32m/usr/local/lib/python3.6/dist-packages/tensorflow/python/eager/def_function.py\u001b[0m in \u001b[0;36m_call\u001b[0;34m(self, *args, **kwds)\u001b[0m\n\u001b[1;32m    853\u001b[0m       \u001b[0;31m# In this case we have created variables on the first call, so we run the\u001b[0m\u001b[0;34m\u001b[0m\u001b[0;34m\u001b[0m\u001b[0;34m\u001b[0m\u001b[0m\n\u001b[1;32m    854\u001b[0m       \u001b[0;31m# defunned version which is guaranteed to never create variables.\u001b[0m\u001b[0;34m\u001b[0m\u001b[0;34m\u001b[0m\u001b[0;34m\u001b[0m\u001b[0m\n\u001b[0;32m--> 855\u001b[0;31m       \u001b[0;32mreturn\u001b[0m \u001b[0mself\u001b[0m\u001b[0;34m.\u001b[0m\u001b[0m_stateless_fn\u001b[0m\u001b[0;34m(\u001b[0m\u001b[0;34m*\u001b[0m\u001b[0margs\u001b[0m\u001b[0;34m,\u001b[0m \u001b[0;34m**\u001b[0m\u001b[0mkwds\u001b[0m\u001b[0;34m)\u001b[0m  \u001b[0;31m# pylint: disable=not-callable\u001b[0m\u001b[0;34m\u001b[0m\u001b[0;34m\u001b[0m\u001b[0m\n\u001b[0m\u001b[1;32m    856\u001b[0m     \u001b[0;32melif\u001b[0m \u001b[0mself\u001b[0m\u001b[0;34m.\u001b[0m\u001b[0m_stateful_fn\u001b[0m \u001b[0;32mis\u001b[0m \u001b[0;32mnot\u001b[0m \u001b[0;32mNone\u001b[0m\u001b[0;34m:\u001b[0m\u001b[0;34m\u001b[0m\u001b[0;34m\u001b[0m\u001b[0m\n\u001b[1;32m    857\u001b[0m       \u001b[0;31m# Release the lock early so that multiple threads can perform the call\u001b[0m\u001b[0;34m\u001b[0m\u001b[0;34m\u001b[0m\u001b[0;34m\u001b[0m\u001b[0m\n",
            "\u001b[0;32m/usr/local/lib/python3.6/dist-packages/tensorflow/python/eager/function.py\u001b[0m in \u001b[0;36m__call__\u001b[0;34m(self, *args, **kwargs)\u001b[0m\n\u001b[1;32m   2941\u001b[0m        filtered_flat_args) = self._maybe_define_function(args, kwargs)\n\u001b[1;32m   2942\u001b[0m     return graph_function._call_flat(\n\u001b[0;32m-> 2943\u001b[0;31m         filtered_flat_args, captured_inputs=graph_function.captured_inputs)  # pylint: disable=protected-access\n\u001b[0m\u001b[1;32m   2944\u001b[0m \u001b[0;34m\u001b[0m\u001b[0m\n\u001b[1;32m   2945\u001b[0m   \u001b[0;34m@\u001b[0m\u001b[0mproperty\u001b[0m\u001b[0;34m\u001b[0m\u001b[0;34m\u001b[0m\u001b[0m\n",
            "\u001b[0;32m/usr/local/lib/python3.6/dist-packages/tensorflow/python/eager/function.py\u001b[0m in \u001b[0;36m_call_flat\u001b[0;34m(self, args, captured_inputs, cancellation_manager)\u001b[0m\n\u001b[1;32m   1917\u001b[0m       \u001b[0;31m# No tape is watching; skip to running the function.\u001b[0m\u001b[0;34m\u001b[0m\u001b[0;34m\u001b[0m\u001b[0;34m\u001b[0m\u001b[0m\n\u001b[1;32m   1918\u001b[0m       return self._build_call_outputs(self._inference_function.call(\n\u001b[0;32m-> 1919\u001b[0;31m           ctx, args, cancellation_manager=cancellation_manager))\n\u001b[0m\u001b[1;32m   1920\u001b[0m     forward_backward = self._select_forward_and_backward_functions(\n\u001b[1;32m   1921\u001b[0m         \u001b[0margs\u001b[0m\u001b[0;34m,\u001b[0m\u001b[0;34m\u001b[0m\u001b[0;34m\u001b[0m\u001b[0m\n",
            "\u001b[0;32m/usr/local/lib/python3.6/dist-packages/tensorflow/python/eager/function.py\u001b[0m in \u001b[0;36mcall\u001b[0;34m(self, ctx, args, cancellation_manager)\u001b[0m\n\u001b[1;32m    558\u001b[0m               \u001b[0minputs\u001b[0m\u001b[0;34m=\u001b[0m\u001b[0margs\u001b[0m\u001b[0;34m,\u001b[0m\u001b[0;34m\u001b[0m\u001b[0;34m\u001b[0m\u001b[0m\n\u001b[1;32m    559\u001b[0m               \u001b[0mattrs\u001b[0m\u001b[0;34m=\u001b[0m\u001b[0mattrs\u001b[0m\u001b[0;34m,\u001b[0m\u001b[0;34m\u001b[0m\u001b[0;34m\u001b[0m\u001b[0m\n\u001b[0;32m--> 560\u001b[0;31m               ctx=ctx)\n\u001b[0m\u001b[1;32m    561\u001b[0m         \u001b[0;32melse\u001b[0m\u001b[0;34m:\u001b[0m\u001b[0;34m\u001b[0m\u001b[0;34m\u001b[0m\u001b[0m\n\u001b[1;32m    562\u001b[0m           outputs = execute.execute_with_cancellation(\n",
            "\u001b[0;32m/usr/local/lib/python3.6/dist-packages/tensorflow/python/eager/execute.py\u001b[0m in \u001b[0;36mquick_execute\u001b[0;34m(op_name, num_outputs, inputs, attrs, ctx, name)\u001b[0m\n\u001b[1;32m     58\u001b[0m     \u001b[0mctx\u001b[0m\u001b[0;34m.\u001b[0m\u001b[0mensure_initialized\u001b[0m\u001b[0;34m(\u001b[0m\u001b[0;34m)\u001b[0m\u001b[0;34m\u001b[0m\u001b[0;34m\u001b[0m\u001b[0m\n\u001b[1;32m     59\u001b[0m     tensors = pywrap_tfe.TFE_Py_Execute(ctx._handle, device_name, op_name,\n\u001b[0;32m---> 60\u001b[0;31m                                         inputs, attrs, num_outputs)\n\u001b[0m\u001b[1;32m     61\u001b[0m   \u001b[0;32mexcept\u001b[0m \u001b[0mcore\u001b[0m\u001b[0;34m.\u001b[0m\u001b[0m_NotOkStatusException\u001b[0m \u001b[0;32mas\u001b[0m \u001b[0me\u001b[0m\u001b[0;34m:\u001b[0m\u001b[0;34m\u001b[0m\u001b[0;34m\u001b[0m\u001b[0m\n\u001b[1;32m     62\u001b[0m     \u001b[0;32mif\u001b[0m \u001b[0mname\u001b[0m \u001b[0;32mis\u001b[0m \u001b[0;32mnot\u001b[0m \u001b[0;32mNone\u001b[0m\u001b[0;34m:\u001b[0m\u001b[0;34m\u001b[0m\u001b[0;34m\u001b[0m\u001b[0m\n",
            "\u001b[0;31mKeyboardInterrupt\u001b[0m: "
          ]
        }
      ]
    },
    {
      "cell_type": "markdown",
      "metadata": {
        "id": "9d0wB4pgzSRO"
      },
      "source": [
        "Network 6"
      ]
    },
    {
      "cell_type": "code",
      "metadata": {
        "colab": {
          "base_uri": "https://localhost:8080/"
        },
        "id": "N5pO3IA2t90Z",
        "outputId": "28bf8fa8-5b6d-40d1-bea5-9299a1eebdf1"
      },
      "source": [
        "model_5 = Sequential()\r\n",
        "model_5.add(Dense(units=200, activation='relu', input_shape=(image_size,)))\r\n",
        "model_5.add(Dense(units=200,activation='relu'))\r\n",
        "model_5.add(Dense(units=128,activation='relu'))\r\n",
        "model_5.add(Dense(units=num_classes, activation='softmax'))\r\n",
        "model_5.summary()"
      ],
      "execution_count": 34,
      "outputs": [
        {
          "output_type": "stream",
          "text": [
            "Model: \"sequential_8\"\n",
            "_________________________________________________________________\n",
            "Layer (type)                 Output Shape              Param #   \n",
            "=================================================================\n",
            "dense_24 (Dense)             (None, 200)               157000    \n",
            "_________________________________________________________________\n",
            "dense_25 (Dense)             (None, 200)               40200     \n",
            "_________________________________________________________________\n",
            "dense_26 (Dense)             (None, 128)               25728     \n",
            "_________________________________________________________________\n",
            "dense_27 (Dense)             (None, 10)                1290      \n",
            "=================================================================\n",
            "Total params: 224,218\n",
            "Trainable params: 224,218\n",
            "Non-trainable params: 0\n",
            "_________________________________________________________________\n"
          ],
          "name": "stdout"
        }
      ]
    },
    {
      "cell_type": "code",
      "metadata": {
        "id": "9yBiU8oYyK9M"
      },
      "source": [
        "from keras.optimizers import Adam"
      ],
      "execution_count": 36,
      "outputs": []
    },
    {
      "cell_type": "code",
      "metadata": {
        "id": "a6QqClRfyDnt"
      },
      "source": [
        "optimizer=Adam(lr=0.0001)"
      ],
      "execution_count": 37,
      "outputs": []
    },
    {
      "cell_type": "code",
      "metadata": {
        "colab": {
          "base_uri": "https://localhost:8080/"
        },
        "id": "Zdskh5RfyOXo",
        "outputId": "639c468c-f8b3-4d56-8c24-24568d010c4b"
      },
      "source": [
        "model_5.compile(optimizer=optimizer, loss='categorical_crossentropy', metrics=['accuracy'])\r\n",
        "history_6 = model_5.fit(x_train, y_train, epochs=35, validation_split=.1,validation_data=(x_test,y_test))"
      ],
      "execution_count": 39,
      "outputs": [
        {
          "output_type": "stream",
          "text": [
            "Epoch 1/35\n",
            "1688/1688 [==============================] - 5s 2ms/step - loss: 1.4390 - accuracy: 0.8866 - val_loss: 0.7209 - val_accuracy: 0.9288\n",
            "Epoch 2/35\n",
            "1688/1688 [==============================] - 4s 2ms/step - loss: 0.4700 - accuracy: 0.9434 - val_loss: 0.5722 - val_accuracy: 0.9392\n",
            "Epoch 3/35\n",
            "1688/1688 [==============================] - 4s 2ms/step - loss: 0.2361 - accuracy: 0.9628 - val_loss: 0.4532 - val_accuracy: 0.9482\n",
            "Epoch 4/35\n",
            "1688/1688 [==============================] - 4s 2ms/step - loss: 0.1572 - accuracy: 0.9717 - val_loss: 0.3912 - val_accuracy: 0.9520\n",
            "Epoch 5/35\n",
            "1688/1688 [==============================] - 4s 2ms/step - loss: 0.1098 - accuracy: 0.9788 - val_loss: 0.3663 - val_accuracy: 0.9597\n",
            "Epoch 6/35\n",
            "1688/1688 [==============================] - 4s 2ms/step - loss: 0.0965 - accuracy: 0.9793 - val_loss: 0.3484 - val_accuracy: 0.9600\n",
            "Epoch 7/35\n",
            "1688/1688 [==============================] - 4s 2ms/step - loss: 0.0638 - accuracy: 0.9851 - val_loss: 0.3475 - val_accuracy: 0.9620\n",
            "Epoch 8/35\n",
            "1688/1688 [==============================] - 4s 3ms/step - loss: 0.0562 - accuracy: 0.9877 - val_loss: 0.3481 - val_accuracy: 0.9622\n",
            "Epoch 9/35\n",
            "1688/1688 [==============================] - 4s 2ms/step - loss: 0.0465 - accuracy: 0.9887 - val_loss: 0.3199 - val_accuracy: 0.9642\n",
            "Epoch 10/35\n",
            "1688/1688 [==============================] - 4s 2ms/step - loss: 0.0428 - accuracy: 0.9895 - val_loss: 0.3797 - val_accuracy: 0.9623\n",
            "Epoch 11/35\n",
            "1688/1688 [==============================] - 4s 2ms/step - loss: 0.0398 - accuracy: 0.9910 - val_loss: 0.3215 - val_accuracy: 0.9677\n",
            "Epoch 12/35\n",
            "1688/1688 [==============================] - 4s 2ms/step - loss: 0.0426 - accuracy: 0.9903 - val_loss: 0.3857 - val_accuracy: 0.9630\n",
            "Epoch 13/35\n",
            "1688/1688 [==============================] - 4s 2ms/step - loss: 0.0364 - accuracy: 0.9915 - val_loss: 0.3299 - val_accuracy: 0.9700\n",
            "Epoch 14/35\n",
            "1688/1688 [==============================] - 4s 2ms/step - loss: 0.0324 - accuracy: 0.9928 - val_loss: 0.3531 - val_accuracy: 0.9687\n",
            "Epoch 15/35\n",
            "1688/1688 [==============================] - 4s 2ms/step - loss: 0.0289 - accuracy: 0.9938 - val_loss: 0.3727 - val_accuracy: 0.9673\n",
            "Epoch 16/35\n",
            "1688/1688 [==============================] - 4s 2ms/step - loss: 0.0382 - accuracy: 0.9920 - val_loss: 0.3907 - val_accuracy: 0.9662\n",
            "Epoch 17/35\n",
            "1688/1688 [==============================] - 4s 2ms/step - loss: 0.0309 - accuracy: 0.9935 - val_loss: 0.3289 - val_accuracy: 0.9715\n",
            "Epoch 18/35\n",
            "1688/1688 [==============================] - 4s 2ms/step - loss: 0.0226 - accuracy: 0.9953 - val_loss: 0.3569 - val_accuracy: 0.9695\n",
            "Epoch 19/35\n",
            "1688/1688 [==============================] - 4s 2ms/step - loss: 0.0279 - accuracy: 0.9930 - val_loss: 0.3716 - val_accuracy: 0.9705\n",
            "Epoch 20/35\n",
            "1688/1688 [==============================] - 4s 3ms/step - loss: 0.0229 - accuracy: 0.9953 - val_loss: 0.3448 - val_accuracy: 0.9733\n",
            "Epoch 21/35\n",
            "1688/1688 [==============================] - 4s 2ms/step - loss: 0.0214 - accuracy: 0.9952 - val_loss: 0.3479 - val_accuracy: 0.9748\n",
            "Epoch 22/35\n",
            "1688/1688 [==============================] - 4s 3ms/step - loss: 0.0210 - accuracy: 0.9955 - val_loss: 0.3632 - val_accuracy: 0.9733\n",
            "Epoch 23/35\n",
            "1688/1688 [==============================] - 4s 2ms/step - loss: 0.0291 - accuracy: 0.9944 - val_loss: 0.3733 - val_accuracy: 0.9727\n",
            "Epoch 24/35\n",
            "1688/1688 [==============================] - 4s 2ms/step - loss: 0.0252 - accuracy: 0.9956 - val_loss: 0.3555 - val_accuracy: 0.9712\n",
            "Epoch 25/35\n",
            "1688/1688 [==============================] - 4s 3ms/step - loss: 0.0228 - accuracy: 0.9961 - val_loss: 0.3403 - val_accuracy: 0.9733\n",
            "Epoch 26/35\n",
            "1688/1688 [==============================] - 4s 2ms/step - loss: 0.0256 - accuracy: 0.9954 - val_loss: 0.3258 - val_accuracy: 0.9733\n",
            "Epoch 27/35\n",
            "1688/1688 [==============================] - 4s 3ms/step - loss: 0.0135 - accuracy: 0.9972 - val_loss: 0.3580 - val_accuracy: 0.9753\n",
            "Epoch 28/35\n",
            "1688/1688 [==============================] - 4s 2ms/step - loss: 0.0163 - accuracy: 0.9970 - val_loss: 0.3704 - val_accuracy: 0.9718\n",
            "Epoch 29/35\n",
            "1688/1688 [==============================] - 4s 2ms/step - loss: 0.0243 - accuracy: 0.9956 - val_loss: 0.3416 - val_accuracy: 0.9750\n",
            "Epoch 30/35\n",
            "1688/1688 [==============================] - 4s 2ms/step - loss: 0.0144 - accuracy: 0.9965 - val_loss: 0.3583 - val_accuracy: 0.9740\n",
            "Epoch 31/35\n",
            "1688/1688 [==============================] - 4s 2ms/step - loss: 0.0197 - accuracy: 0.9962 - val_loss: 0.3523 - val_accuracy: 0.9750\n",
            "Epoch 32/35\n",
            "1688/1688 [==============================] - 4s 2ms/step - loss: 0.0158 - accuracy: 0.9969 - val_loss: 0.3881 - val_accuracy: 0.9718\n",
            "Epoch 33/35\n",
            "1688/1688 [==============================] - 4s 2ms/step - loss: 0.0172 - accuracy: 0.9965 - val_loss: 0.3490 - val_accuracy: 0.9763\n",
            "Epoch 34/35\n",
            "1688/1688 [==============================] - 4s 2ms/step - loss: 0.0117 - accuracy: 0.9974 - val_loss: 0.3781 - val_accuracy: 0.9740\n",
            "Epoch 35/35\n",
            "1688/1688 [==============================] - 4s 2ms/step - loss: 0.0173 - accuracy: 0.9968 - val_loss: 0.4700 - val_accuracy: 0.9707\n"
          ],
          "name": "stdout"
        }
      ]
    },
    {
      "cell_type": "code",
      "metadata": {
        "colab": {
          "base_uri": "https://localhost:8080/",
          "height": 295
        },
        "id": "evrvArR3yg9M",
        "outputId": "0f900839-c3b7-48dd-be58-7b1efd9e84a5"
      },
      "source": [
        "plt.plot(history_6.history['accuracy'])\r\n",
        "plt.plot(history_6.history['val_accuracy'])\r\n",
        "plt.title('model accuracy')\r\n",
        "plt.ylabel('accuracy')\r\n",
        "plt.xlabel('epoch')\r\n",
        "plt.legend(['training', 'validation'], loc='best')\r\n",
        "plt.show()"
      ],
      "execution_count": 40,
      "outputs": [
        {
          "output_type": "display_data",
          "data": {
            "image/png": "[encoded data removed]",
            "text/plain": [
              "<Figure size 432x288 with 1 Axes>"
            ]
          },
          "metadata": {
            "tags": [],
            "needs_background": "light"
          }
        }
      ]
    },
    {
      "cell_type": "code",
      "metadata": {
        "id": "FvpRPyelzmga"
      },
      "source": [
        ""
      ],
      "execution_count": null,
      "outputs": []
    },
    {
      "cell_type": "markdown",
      "metadata": {
        "id": "jYVDFveazVx5"
      },
      "source": [
        "Network 7"
      ]
    },
    {
      "cell_type": "code",
      "metadata": {
        "id": "ZxML_0-gznYy"
      },
      "source": [
        "opt=Adam(lr=0.02)"
      ],
      "execution_count": 41,
      "outputs": []
    },
    {
      "cell_type": "code",
      "metadata": {
        "colab": {
          "base_uri": "https://localhost:8080/"
        },
        "id": "G_G5MCGDzPMs",
        "outputId": "6ffb22da-785c-4587-c014-2de96adcaa60"
      },
      "source": [
        "model_5.compile(optimizer=opt, loss='categorical_crossentropy', metrics=['accuracy'])\r\n",
        "history_7 = model_5.fit(x_train, y_train, epochs=35, validation_split=.1,validation_data=(x_test,y_test))"
      ],
      "execution_count": 42,
      "outputs": [
        {
          "output_type": "stream",
          "text": [
            "Epoch 1/35\n",
            "1688/1688 [==============================] - 5s 3ms/step - loss: 13.7803 - accuracy: 0.5196 - val_loss: 2.7066 - val_accuracy: 0.1000\n",
            "Epoch 2/35\n",
            "1688/1688 [==============================] - 5s 3ms/step - loss: 2.3459 - accuracy: 0.1017 - val_loss: 2.3057 - val_accuracy: 0.1050\n",
            "Epoch 3/35\n",
            "1688/1688 [==============================] - 5s 3ms/step - loss: 2.3036 - accuracy: 0.1102 - val_loss: 2.3051 - val_accuracy: 0.1050\n",
            "Epoch 4/35\n",
            "1688/1688 [==============================] - 4s 2ms/step - loss: 2.3040 - accuracy: 0.1036 - val_loss: 2.3026 - val_accuracy: 0.1050\n",
            "Epoch 5/35\n",
            "1688/1688 [==============================] - 4s 2ms/step - loss: 2.3039 - accuracy: 0.1083 - val_loss: 2.3028 - val_accuracy: 0.1050\n",
            "Epoch 6/35\n",
            "1688/1688 [==============================] - 4s 2ms/step - loss: 2.3035 - accuracy: 0.1109 - val_loss: 2.3038 - val_accuracy: 0.1045\n",
            "Epoch 7/35\n",
            "1688/1688 [==============================] - 4s 2ms/step - loss: 2.3034 - accuracy: 0.1067 - val_loss: 2.3032 - val_accuracy: 0.1050\n",
            "Epoch 8/35\n",
            "1688/1688 [==============================] - 4s 2ms/step - loss: 2.3041 - accuracy: 0.1110 - val_loss: 2.3082 - val_accuracy: 0.1050\n",
            "Epoch 9/35\n",
            "1688/1688 [==============================] - 4s 2ms/step - loss: 2.3036 - accuracy: 0.1087 - val_loss: 2.3028 - val_accuracy: 0.1045\n",
            "Epoch 10/35\n",
            "1688/1688 [==============================] - 4s 2ms/step - loss: 2.3036 - accuracy: 0.1070 - val_loss: 2.3027 - val_accuracy: 0.1112\n",
            "Epoch 11/35\n",
            "1688/1688 [==============================] - 4s 3ms/step - loss: 2.3035 - accuracy: 0.1089 - val_loss: 2.3053 - val_accuracy: 0.1045\n",
            "Epoch 12/35\n",
            "1688/1688 [==============================] - 4s 3ms/step - loss: 2.3040 - accuracy: 0.1056 - val_loss: 2.3043 - val_accuracy: 0.1000\n",
            "Epoch 13/35\n",
            "1688/1688 [==============================] - 4s 2ms/step - loss: 2.3038 - accuracy: 0.1092 - val_loss: 2.3038 - val_accuracy: 0.0960\n",
            "Epoch 14/35\n",
            "1688/1688 [==============================] - 4s 2ms/step - loss: 2.3038 - accuracy: 0.1048 - val_loss: 2.3064 - val_accuracy: 0.1050\n",
            "Epoch 15/35\n",
            "1688/1688 [==============================] - 4s 3ms/step - loss: 2.3039 - accuracy: 0.1075 - val_loss: 2.3042 - val_accuracy: 0.1112\n",
            "Epoch 16/35\n",
            "1688/1688 [==============================] - 4s 2ms/step - loss: 2.3039 - accuracy: 0.1067 - val_loss: 2.3060 - val_accuracy: 0.1050\n",
            "Epoch 17/35\n",
            "1688/1688 [==============================] - 4s 3ms/step - loss: 2.3039 - accuracy: 0.1086 - val_loss: 2.3030 - val_accuracy: 0.1112\n",
            "Epoch 18/35\n",
            "1688/1688 [==============================] - 4s 2ms/step - loss: 2.3042 - accuracy: 0.1044 - val_loss: 2.3026 - val_accuracy: 0.1050\n",
            "Epoch 19/35\n",
            "1688/1688 [==============================] - 4s 2ms/step - loss: 2.3036 - accuracy: 0.1042 - val_loss: 2.3035 - val_accuracy: 0.0952\n",
            "Epoch 20/35\n",
            "1688/1688 [==============================] - 4s 2ms/step - loss: 2.3039 - accuracy: 0.1049 - val_loss: 2.3068 - val_accuracy: 0.1050\n",
            "Epoch 21/35\n",
            "1688/1688 [==============================] - 4s 2ms/step - loss: 2.3036 - accuracy: 0.1100 - val_loss: 2.3039 - val_accuracy: 0.0995\n",
            "Epoch 22/35\n",
            "1688/1688 [==============================] - 4s 2ms/step - loss: 2.3038 - accuracy: 0.1069 - val_loss: 2.3032 - val_accuracy: 0.1050\n",
            "Epoch 23/35\n",
            "1688/1688 [==============================] - 4s 2ms/step - loss: 2.3030 - accuracy: 0.1095 - val_loss: 2.3030 - val_accuracy: 0.1050\n",
            "Epoch 24/35\n",
            "1688/1688 [==============================] - 4s 2ms/step - loss: 2.3043 - accuracy: 0.1017 - val_loss: 2.3035 - val_accuracy: 0.1050\n",
            "Epoch 25/35\n",
            "1688/1688 [==============================] - 4s 2ms/step - loss: 2.3034 - accuracy: 0.1078 - val_loss: 2.3054 - val_accuracy: 0.1050\n",
            "Epoch 26/35\n",
            "1688/1688 [==============================] - 4s 3ms/step - loss: 2.3045 - accuracy: 0.1034 - val_loss: 2.3067 - val_accuracy: 0.0960\n",
            "Epoch 27/35\n",
            "1688/1688 [==============================] - 4s 3ms/step - loss: 2.3043 - accuracy: 0.1045 - val_loss: 2.3034 - val_accuracy: 0.1050\n",
            "Epoch 28/35\n",
            "1688/1688 [==============================] - 4s 2ms/step - loss: 2.3032 - accuracy: 0.1070 - val_loss: 2.3042 - val_accuracy: 0.1050\n",
            "Epoch 29/35\n",
            "1688/1688 [==============================] - 4s 2ms/step - loss: 2.3038 - accuracy: 0.1065 - val_loss: 2.3049 - val_accuracy: 0.1050\n",
            "Epoch 30/35\n",
            "1688/1688 [==============================] - 4s 2ms/step - loss: 2.3032 - accuracy: 0.1110 - val_loss: 2.3068 - val_accuracy: 0.0995\n",
            "Epoch 31/35\n",
            "1688/1688 [==============================] - 4s 2ms/step - loss: 2.3039 - accuracy: 0.1072 - val_loss: 2.3052 - val_accuracy: 0.1050\n",
            "Epoch 32/35\n",
            "1688/1688 [==============================] - 4s 2ms/step - loss: 2.3039 - accuracy: 0.1090 - val_loss: 2.3050 - val_accuracy: 0.1050\n",
            "Epoch 33/35\n",
            "1688/1688 [==============================] - 4s 2ms/step - loss: 2.3043 - accuracy: 0.1074 - val_loss: 2.3046 - val_accuracy: 0.1050\n",
            "Epoch 34/35\n",
            "1688/1688 [==============================] - 4s 2ms/step - loss: 2.3041 - accuracy: 0.1115 - val_loss: 2.3025 - val_accuracy: 0.0992\n",
            "Epoch 35/35\n",
            "1688/1688 [==============================] - 4s 2ms/step - loss: 2.3038 - accuracy: 0.1075 - val_loss: 2.3039 - val_accuracy: 0.1050\n"
          ],
          "name": "stdout"
        }
      ]
    },
    {
      "cell_type": "markdown",
      "metadata": {
        "id": "0oK6jhsE0O6d"
      },
      "source": [
        "Network 8 (Combining The Best HyperParameters)"
      ]
    },
    {
      "cell_type": "code",
      "metadata": {
        "colab": {
          "base_uri": "https://localhost:8080/"
        },
        "id": "tJSgOl8Szq8o",
        "outputId": "536b33c3-1730-4e2d-d0e5-4fd4ad04c463"
      },
      "source": [
        "model_new = Sequential()\r\n",
        "model_new.add(Dense(units=200, activation='relu', input_shape=(image_size,)))\r\n",
        "model_new.add(Dense(units=200,activation='tanh'))\r\n",
        "model_new.add(Dense(units=200,activation='tanh'))\r\n",
        "model_new.add(Dense(units=200,activation='tanh'))\r\n",
        "model_new.add(Dense(units=num_classes, activation='softmax'))\r\n",
        "model_new.summary()"
      ],
      "execution_count": 44,
      "outputs": [
        {
          "output_type": "stream",
          "text": [
            "Model: \"sequential_9\"\n",
            "_________________________________________________________________\n",
            "Layer (type)                 Output Shape              Param #   \n",
            "=================================================================\n",
            "dense_28 (Dense)             (None, 200)               157000    \n",
            "_________________________________________________________________\n",
            "dense_29 (Dense)             (None, 200)               40200     \n",
            "_________________________________________________________________\n",
            "dense_30 (Dense)             (None, 200)               40200     \n",
            "_________________________________________________________________\n",
            "dense_31 (Dense)             (None, 200)               40200     \n",
            "_________________________________________________________________\n",
            "dense_32 (Dense)             (None, 10)                2010      \n",
            "=================================================================\n",
            "Total params: 279,610\n",
            "Trainable params: 279,610\n",
            "Non-trainable params: 0\n",
            "_________________________________________________________________\n"
          ],
          "name": "stdout"
        }
      ]
    },
    {
      "cell_type": "code",
      "metadata": {
        "id": "BBWNjuEi0pWW"
      },
      "source": [
        "opti=Adam(lr=0.0001)"
      ],
      "execution_count": 45,
      "outputs": []
    },
    {
      "cell_type": "code",
      "metadata": {
        "colab": {
          "base_uri": "https://localhost:8080/"
        },
        "id": "_Jr8CT4t0uY1",
        "outputId": "b7927b3d-0aee-4d00-91e1-610aa34eca9b"
      },
      "source": [
        "model_new.compile(optimizer=opti, loss='categorical_crossentropy', metrics=['accuracy'])\r\n",
        "history_new = model_new.fit(x_train, y_train, epochs=35, validation_split=.1,validation_data=(x_test,y_test))"
      ],
      "execution_count": 46,
      "outputs": [
        {
          "output_type": "stream",
          "text": [
            "Epoch 1/35\n",
            "1688/1688 [==============================] - 5s 3ms/step - loss: 0.9797 - accuracy: 0.7004 - val_loss: 0.2777 - val_accuracy: 0.9202\n",
            "Epoch 2/35\n",
            "1688/1688 [==============================] - 5s 3ms/step - loss: 0.3137 - accuracy: 0.9026 - val_loss: 0.2143 - val_accuracy: 0.9372\n",
            "Epoch 3/35\n",
            "1688/1688 [==============================] - 4s 3ms/step - loss: 0.2484 - accuracy: 0.9225 - val_loss: 0.1884 - val_accuracy: 0.9455\n",
            "Epoch 4/35\n",
            "1688/1688 [==============================] - 4s 2ms/step - loss: 0.2143 - accuracy: 0.9344 - val_loss: 0.1701 - val_accuracy: 0.9503\n",
            "Epoch 5/35\n",
            "1688/1688 [==============================] - 4s 2ms/step - loss: 0.1888 - accuracy: 0.9408 - val_loss: 0.1509 - val_accuracy: 0.9542\n",
            "Epoch 6/35\n",
            "1688/1688 [==============================] - 4s 2ms/step - loss: 0.1673 - accuracy: 0.9472 - val_loss: 0.1438 - val_accuracy: 0.9577\n",
            "Epoch 7/35\n",
            "1688/1688 [==============================] - 4s 2ms/step - loss: 0.1609 - accuracy: 0.9501 - val_loss: 0.1508 - val_accuracy: 0.9550\n",
            "Epoch 8/35\n",
            "1688/1688 [==============================] - 4s 3ms/step - loss: 0.1529 - accuracy: 0.9515 - val_loss: 0.1324 - val_accuracy: 0.9593\n",
            "Epoch 9/35\n",
            "1688/1688 [==============================] - 4s 3ms/step - loss: 0.1371 - accuracy: 0.9558 - val_loss: 0.1386 - val_accuracy: 0.9572\n",
            "Epoch 10/35\n",
            "1688/1688 [==============================] - 4s 3ms/step - loss: 0.1379 - accuracy: 0.9563 - val_loss: 0.1307 - val_accuracy: 0.9618\n",
            "Epoch 11/35\n",
            "1688/1688 [==============================] - 4s 2ms/step - loss: 0.1264 - accuracy: 0.9599 - val_loss: 0.1256 - val_accuracy: 0.9627\n",
            "Epoch 12/35\n",
            "1688/1688 [==============================] - 4s 3ms/step - loss: 0.1200 - accuracy: 0.9624 - val_loss: 0.1274 - val_accuracy: 0.9612\n",
            "Epoch 13/35\n",
            "1688/1688 [==============================] - 4s 2ms/step - loss: 0.1173 - accuracy: 0.9624 - val_loss: 0.1155 - val_accuracy: 0.9642\n",
            "Epoch 14/35\n",
            "1688/1688 [==============================] - 4s 2ms/step - loss: 0.1117 - accuracy: 0.9652 - val_loss: 0.1080 - val_accuracy: 0.9677\n",
            "Epoch 15/35\n",
            "1688/1688 [==============================] - 4s 2ms/step - loss: 0.1101 - accuracy: 0.9644 - val_loss: 0.1184 - val_accuracy: 0.9643\n",
            "Epoch 16/35\n",
            "1688/1688 [==============================] - 4s 2ms/step - loss: 0.1088 - accuracy: 0.9655 - val_loss: 0.1225 - val_accuracy: 0.9632\n",
            "Epoch 17/35\n",
            "1688/1688 [==============================] - 4s 3ms/step - loss: 0.1032 - accuracy: 0.9676 - val_loss: 0.1110 - val_accuracy: 0.9678\n",
            "Epoch 18/35\n",
            "1688/1688 [==============================] - 4s 2ms/step - loss: 0.1012 - accuracy: 0.9680 - val_loss: 0.1110 - val_accuracy: 0.9650\n",
            "Epoch 19/35\n",
            "1688/1688 [==============================] - 4s 2ms/step - loss: 0.1021 - accuracy: 0.9672 - val_loss: 0.1044 - val_accuracy: 0.9698\n",
            "Epoch 20/35\n",
            "1688/1688 [==============================] - 4s 2ms/step - loss: 0.0973 - accuracy: 0.9691 - val_loss: 0.1075 - val_accuracy: 0.9705\n",
            "Epoch 21/35\n",
            "1688/1688 [==============================] - 4s 2ms/step - loss: 0.0995 - accuracy: 0.9694 - val_loss: 0.1105 - val_accuracy: 0.9662\n",
            "Epoch 22/35\n",
            "1688/1688 [==============================] - 4s 2ms/step - loss: 0.0903 - accuracy: 0.9709 - val_loss: 0.1134 - val_accuracy: 0.9677\n",
            "Epoch 23/35\n",
            "1688/1688 [==============================] - 4s 3ms/step - loss: 0.0898 - accuracy: 0.9717 - val_loss: 0.0976 - val_accuracy: 0.9707\n",
            "Epoch 24/35\n",
            "1688/1688 [==============================] - 4s 3ms/step - loss: 0.0856 - accuracy: 0.9727 - val_loss: 0.0968 - val_accuracy: 0.9705\n",
            "Epoch 25/35\n",
            "1688/1688 [==============================] - 4s 2ms/step - loss: 0.0841 - accuracy: 0.9729 - val_loss: 0.0938 - val_accuracy: 0.9707\n",
            "Epoch 26/35\n",
            "1688/1688 [==============================] - 4s 2ms/step - loss: 0.0814 - accuracy: 0.9735 - val_loss: 0.1007 - val_accuracy: 0.9682\n",
            "Epoch 27/35\n",
            "1688/1688 [==============================] - 4s 2ms/step - loss: 0.0809 - accuracy: 0.9744 - val_loss: 0.1029 - val_accuracy: 0.9692\n",
            "Epoch 28/35\n",
            "1688/1688 [==============================] - 4s 2ms/step - loss: 0.0773 - accuracy: 0.9755 - val_loss: 0.0959 - val_accuracy: 0.9710\n",
            "Epoch 29/35\n",
            "1688/1688 [==============================] - 4s 2ms/step - loss: 0.0723 - accuracy: 0.9773 - val_loss: 0.0963 - val_accuracy: 0.9690\n",
            "Epoch 30/35\n",
            "1688/1688 [==============================] - 4s 2ms/step - loss: 0.0727 - accuracy: 0.9758 - val_loss: 0.1033 - val_accuracy: 0.9675\n",
            "Epoch 31/35\n",
            "1688/1688 [==============================] - 4s 2ms/step - loss: 0.0744 - accuracy: 0.9760 - val_loss: 0.1002 - val_accuracy: 0.9705\n",
            "Epoch 32/35\n",
            "1688/1688 [==============================] - 4s 3ms/step - loss: 0.0742 - accuracy: 0.9755 - val_loss: 0.0982 - val_accuracy: 0.9673\n",
            "Epoch 33/35\n",
            "1688/1688 [==============================] - 4s 2ms/step - loss: 0.0653 - accuracy: 0.9785 - val_loss: 0.1033 - val_accuracy: 0.9710\n",
            "Epoch 34/35\n",
            "1688/1688 [==============================] - 4s 2ms/step - loss: 0.0669 - accuracy: 0.9782 - val_loss: 0.0957 - val_accuracy: 0.9708\n",
            "Epoch 35/35\n",
            "1688/1688 [==============================] - 4s 2ms/step - loss: 0.0659 - accuracy: 0.9791 - val_loss: 0.0970 - val_accuracy: 0.9713\n"
          ],
          "name": "stdout"
        }
      ]
    },
    {
      "cell_type": "code",
      "metadata": {
        "colab": {
          "base_uri": "https://localhost:8080/",
          "height": 295
        },
        "id": "B_T9xEhS03Sz",
        "outputId": "0f37bac8-9e66-4901-c726-fe5df2193622"
      },
      "source": [
        "plt.plot(history_new.history['accuracy'])\r\n",
        "plt.plot(history_new.history['val_accuracy'])\r\n",
        "plt.title('model accuracy')\r\n",
        "plt.ylabel('accuracy')\r\n",
        "plt.xlabel('epoch')\r\n",
        "plt.legend(['training', 'validation'], loc='best')\r\n",
        "plt.show()"
      ],
      "execution_count": 48,
      "outputs": [
        {
          "output_type": "display_data",
          "data": {
            "image/png": "[encoded data removed]",
            "text/plain": [
              "<Figure size 432x288 with 1 Axes>"
            ]
          },
          "metadata": {
            "tags": [],
            "needs_background": "light"
          }
        }
      ]
    },
    {
      "cell_type": "code",
      "metadata": {
        "id": "COKm1yx21oNG"
      },
      "source": [
        ""
      ],
      "execution_count": null,
      "outputs": []
    }
  ]
}